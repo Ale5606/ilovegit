{
 "cells": [
  {
   "cell_type": "code",
   "execution_count": null,
   "id": "6d93aa79",
   "metadata": {},
   "outputs": [],
   "source": [
    "print('new')"
   ]
  },
  {
   "cell_type": "markdown",
   "id": "d0916f47",
   "metadata": {},
   "source": [
    "esempio $\\alpha$ di latex "
   ]
  }
 ],
 "metadata": {
  "language_info": {
   "name": "python"
  }
 },
 "nbformat": 4,
 "nbformat_minor": 5
}
