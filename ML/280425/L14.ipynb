{
 "cells": [
  {
   "cell_type": "markdown",
   "id": "6e3b6def",
   "metadata": {},
   "source": [
    "$\\gamma$ Ray Burst (GRB)\n",
    "\n",
    "We have to explore the following data set and cluster the fast and slow GRB. Then, compare with the literature."
   ]
  },
  {
   "cell_type": "code",
   "execution_count": 2,
   "id": "81a84a33",
   "metadata": {},
   "outputs": [],
   "source": [
    "import requests\n",
    "import numpy as np\n",
    "\n",
    "# Download file\n",
    "r = requests.get('https://user-web.icecube.wisc.edu/~grbweb_public/Summary_table.txt')\n",
    "with open(\"Summary_table.txt\", 'wb') as f:\n",
    "    f.write(r.content)\n",
    "\n",
    "# Read content\n",
    "data = np.loadtxt(\"Summary_table.txt\", dtype='str',unpack='True')\n",
    "\n",
    "# Read headers\n",
    "with open(\"Summary_table.txt\",'r') as f:\n",
    "    names = np.array([n.strip().replace(\" \",\"_\") for n in f.readlines()[1].replace(\"#\",\"\").replace(\"\\n\",\"\").lstrip().split('    ') if n.strip()!=''])\n"
   ]
  }
 ],
 "metadata": {
  "kernelspec": {
   "display_name": "base",
   "language": "python",
   "name": "python3"
  },
  "language_info": {
   "codemirror_mode": {
    "name": "ipython",
    "version": 3
   },
   "file_extension": ".py",
   "mimetype": "text/x-python",
   "name": "python",
   "nbconvert_exporter": "python",
   "pygments_lexer": "ipython3",
   "version": "3.11.7"
  }
 },
 "nbformat": 4,
 "nbformat_minor": 5
}
