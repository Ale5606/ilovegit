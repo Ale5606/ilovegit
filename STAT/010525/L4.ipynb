{
 "cells": [
  {
   "cell_type": "markdown",
   "id": "855b91d7",
   "metadata": {},
   "source": [
    "# Cloning Quasar\n",
    "\n",
    "First, let's try to visualise the data set"
   ]
  },
  {
   "cell_type": "code",
   "execution_count": null,
   "id": "1017f81a",
   "metadata": {},
   "outputs": [
    {
     "name": "stdout",
     "output_type": "stream",
     "text": [
      "downloading DR7 quasar dataset from http://das.sdss.org/va/qsocat/dr7qso.dat.gz to C:\\Users\\aleco\\astroML_data\n",
      "Downloading http://das.sdss.org/va/qsocat/dr7qso.dat.gz\n",
      "[=========================================]  12.82Mb / 12.82Mb   \n"
     ]
    }
   ],
   "source": [
    "import numpy as np\n",
    "import matplotlib.pyplot as plt\n",
    "\n",
    "from astroML.datasets import fetch_dr7_quasar\n",
    "\n",
    "# Fetch the quasar data\n",
    "data = fetch_dr7_quasar()\n",
    "\n",
    "# select the first 10000 points\n",
    "data = data[:10000]\n",
    "\n",
    "z = data['redshift']"
   ]
  },
  {
   "cell_type": "code",
   "execution_count": null,
   "id": "7768ed24",
   "metadata": {},
   "outputs": [],
   "source": []
  }
 ],
 "metadata": {
  "kernelspec": {
   "display_name": "base",
   "language": "python",
   "name": "python3"
  },
  "language_info": {
   "codemirror_mode": {
    "name": "ipython",
    "version": 3
   },
   "file_extension": ".py",
   "mimetype": "text/x-python",
   "name": "python",
   "nbconvert_exporter": "python",
   "pygments_lexer": "ipython3",
   "version": "3.11.7"
  }
 },
 "nbformat": 4,
 "nbformat_minor": 5
}
