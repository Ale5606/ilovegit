{
 "cells": [
  {
   "cell_type": "markdown",
   "id": "d9568157",
   "metadata": {},
   "source": [
    "Basic statistic concept"
   ]
  }
 ],
 "metadata": {
  "language_info": {
   "name": "python"
  }
 },
 "nbformat": 4,
 "nbformat_minor": 5
}
