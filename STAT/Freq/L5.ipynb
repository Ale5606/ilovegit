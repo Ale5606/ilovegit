{
 "cells": [
  {
   "cell_type": "markdown",
   "id": "10c57bd4",
   "metadata": {},
   "source": [
    "L5"
   ]
  },
  {
   "cell_type": "code",
   "execution_count": null,
   "id": "9152542e",
   "metadata": {
    "vscode": {
     "languageId": "plaintext"
    }
   },
   "outputs": [],
   "source": []
  }
 ],
 "metadata": {
  "language_info": {
   "name": "python"
  }
 },
 "nbformat": 4,
 "nbformat_minor": 5
}
