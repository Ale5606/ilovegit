{
 "cells": [
  {
   "cell_type": "markdown",
   "id": "7424de20",
   "metadata": {},
   "source": [
    "L7"
   ]
  },
  {
   "cell_type": "code",
   "execution_count": null,
   "id": "9bf9434b",
   "metadata": {},
   "outputs": [],
   "source": [
    "import matplotlib.pyplot as plt\n",
    "import numpy as np\n"
   ]
  }
 ],
 "metadata": {
  "kernelspec": {
   "display_name": "base",
   "language": "python",
   "name": "python3"
  },
  "language_info": {
   "name": "python",
   "version": "3.11.7"
  }
 },
 "nbformat": 4,
 "nbformat_minor": 5
}
