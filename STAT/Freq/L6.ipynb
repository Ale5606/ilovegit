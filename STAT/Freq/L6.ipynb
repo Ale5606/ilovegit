{
 "cells": [
  {
   "cell_type": "markdown",
   "id": "a67647cb",
   "metadata": {},
   "source": [
    "L6"
   ]
  },
  {
   "cell_type": "code",
   "execution_count": null,
   "id": "71490976",
   "metadata": {},
   "outputs": [],
   "source": [
    "import numpy as np\n",
    "import matplotlib.pyplot as plt\n"
   ]
  },
  {
   "cell_type": "code",
   "execution_count": null,
   "id": "3bb7f615",
   "metadata": {},
   "outputs": [],
   "source": []
  }
 ],
 "metadata": {
  "kernelspec": {
   "display_name": "base",
   "language": "python",
   "name": "python3"
  },
  "language_info": {
   "name": "python",
   "version": "3.11.7"
  }
 },
 "nbformat": 4,
 "nbformat_minor": 5
}
