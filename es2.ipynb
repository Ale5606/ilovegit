{
 "cells": [
  {
   "cell_type": "code",
   "execution_count": null,
   "id": "57377a70",
   "metadata": {},
   "outputs": [],
   "source": [
    "print('es2')"
   ]
  }
 ],
 "metadata": {
  "language_info": {
   "name": "python"
  }
 },
 "nbformat": 4,
 "nbformat_minor": 5
}
